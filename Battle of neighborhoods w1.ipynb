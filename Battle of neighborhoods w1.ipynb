{
 "cells": [
  {
   "cell_type": "markdown",
   "metadata": {},
   "source": [
    "## Description\n",
    "The problem attempted to solve will be to locate the best area to open an Asian restaurant in the city of London. we will approach this problem by applying machine learning techniques and data mining and analysis to model a proper solution to the problem."
   ]
  },
  {
   "cell_type": "markdown",
   "metadata": {},
   "source": [
    "## Data\n",
    "\n",
    "The data we will use are as follows:\n",
    "\n",
    "    -  Foursquare Api\n",
    "    -  London City Hall website    "
   ]
  },
  {
   "cell_type": "markdown",
   "metadata": {},
   "source": [
    "## Methodology \n",
    "\n",
    "Our Methodology to approach this problem will be by understanding the social demography of the different neighborhoods and Boroughs to understand the ethnic distribution among the city and we will also the most popular venues in each area and try to get an understanding of the social taste for food and the statues of competing Asian restaurants. \n",
    "We will then apply k-means analysis to cluster the city and venues and reach conclusion on best cluster to open the business.\n",
    "\n",
    "## Detailed Approach\n",
    "\n",
    "Our detailed approach will be by mining for data of the distribution of ethnic groups in London Boroughs and understand the demography of each borough and the ethnic concentration in each. We will then obtain the top venues in each borough using foursqaure API and will have a look at the top 10 venues in each borough. With these data we will apply k-means algorithm to cluster the boroughs and venues in clusters and analyze each to determine best cluster to achieve our objective."
   ]
  },
  {
   "cell_type": "markdown",
   "metadata": {},
   "source": [
    "## Target Audience \n",
    "\n",
    "Our Target audience are the investors willing to invest in restaurant business."
   ]
  }
 ],
 "metadata": {
  "kernelspec": {
   "display_name": "Python",
   "language": "python",
   "name": "conda-env-python-py"
  },
  "language_info": {
   "codemirror_mode": {
    "name": "ipython",
    "version": 3
   },
   "file_extension": ".py",
   "mimetype": "text/x-python",
   "name": "python",
   "nbconvert_exporter": "python",
   "pygments_lexer": "ipython3",
   "version": "3.6.7"
  }
 },
 "nbformat": 4,
 "nbformat_minor": 4
}
